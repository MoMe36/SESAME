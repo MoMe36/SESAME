{
 "cells": [
  {
   "cell_type": "code",
   "execution_count": 41,
   "id": "challenging-fishing",
   "metadata": {},
   "outputs": [],
   "source": [
    "import OMPython as om\n",
    "import matplotlib.pyplot as plt \n",
    "from pyfmi import load_fmu"
   ]
  },
  {
   "cell_type": "code",
   "execution_count": 12,
   "id": "traditional-counter",
   "metadata": {},
   "outputs": [
    {
     "name": "stdout",
     "output_type": "stream",
     "text": [
      "Modelica.Mechanics.Rotational.Examples.First.fmu\r\n",
      "Modelica_Mechanics_Rotational_Examples_First_FMU.libs\r\n",
      "Modelica_Mechanics_Rotational_Examples_First_FMU.log\r\n",
      "Modelica_Mechanics_Rotational_Examples_First_FMU.makefile\r\n",
      "Modelica_Mechanics_Rotational_Examples_First.log\r\n"
     ]
    }
   ],
   "source": [
    "!ls test_fmu/"
   ]
  },
  {
   "cell_type": "code",
   "execution_count": 19,
   "id": "color-lambda",
   "metadata": {},
   "outputs": [
    {
     "name": "stdout",
     "output_type": "stream",
     "text": [
      "<pyfmi.fmi.FMUModelME2 object at 0x55556720cbd0>\n"
     ]
    }
   ],
   "source": [
    "model = load_fmu('test_fmu/Modelica.Mechanics.Rotational.Examples.First.fmu')\n",
    "print(model) "
   ]
  },
  {
   "cell_type": "code",
   "execution_count": 20,
   "id": "catholic-chase",
   "metadata": {},
   "outputs": [],
   "source": [
    "model.simulate?"
   ]
  },
  {
   "cell_type": "code",
   "execution_count": 21,
   "id": "governmental-pursuit",
   "metadata": {},
   "outputs": [
    {
     "name": "stdout",
     "output_type": "stream",
     "text": [
      "{'solver': 'CVode', 'ncp': 500, 'initialize': True, 'sensitivities': None, 'write_scaled_result': False, 'result_file_name': '', 'with_jacobian': 'Default', 'logging': False, 'result_handling': 'binary', 'result_handler': None, 'return_result': True, 'result_store_variable_description': True, 'filter': None, 'extra_equations': None, 'CVode_options': {'discr': 'BDF', 'iter': 'Newton', 'atol': 'Default', 'rtol': 'Default', 'maxh': 'Default', 'external_event_detection': False}, 'Radau5ODE_options': {'atol': 'Default', 'rtol': 'Default', 'maxh': 'Default'}, 'RungeKutta34_options': {'atol': 'Default', 'rtol': 'Default'}, 'Dopri5_options': {'atol': 'Default', 'rtol': 'Default', 'maxh': 'Default'}, 'RodasODE_options': {'atol': 'Default', 'rtol': 'Default', 'maxh': 'Default'}, 'LSODAR_options': {'atol': 'Default', 'rtol': 'Default', 'maxh': 'Default'}, 'ExplicitEuler_options': {}, 'ImplicitEuler_options': {}}\n"
     ]
    }
   ],
   "source": [
    "print(model.simulate_options())"
   ]
  },
  {
   "cell_type": "code",
   "execution_count": 22,
   "id": "intensive-gazette",
   "metadata": {},
   "outputs": [
    {
     "name": "stdout",
     "output_type": "stream",
     "text": [
      "Final Run Statistics: --- \n",
      "\n",
      " Number of steps                                 : 4091\n",
      " Number of function evaluations                  : 5114\n",
      " Number of Jacobian evaluations                  : 71\n",
      " Number of function eval. due to Jacobian eval.  : 284\n",
      " Number of error test failures                   : 212\n",
      " Number of nonlinear iterations                  : 5111\n",
      " Number of nonlinear convergence failures        : 0\n",
      " Number of state function evaluations            : 4092\n",
      "\n",
      "Solver options:\n",
      "\n",
      " Solver                   : CVode\n",
      " Linear multistep method  : BDF\n",
      " Nonlinear solver         : Newton\n",
      " Linear solver type       : DENSE\n",
      " Maximal order            : 5\n",
      " Tolerances (absolute)    : 1e-08\n",
      " Tolerances (relative)    : 1e-06\n",
      "\n",
      "Simulation interval    : 0.0 - 10.0 seconds.\n",
      "Elapsed simulation time: 0.055241902000034315 seconds.\n"
     ]
    }
   ],
   "source": [
    "out = model.simulate(start_time = 0, final_time = 10)"
   ]
  },
  {
   "cell_type": "code",
   "execution_count": 45,
   "id": "lucky-glasgow",
   "metadata": {},
   "outputs": [
    {
     "data": {
      "text/plain": [
       "[<matplotlib.lines.Line2D at 0x7f0d38fbdee0>]"
      ]
     },
     "execution_count": 45,
     "metadata": {},
     "output_type": "execute_result"
    },
    {
     "data": {
      "image/png": "[encoded data removed]",
      "text/plain": [
       "<Figure size 432x288 with 1 Axes>"
      ]
     },
     "metadata": {
      "needs_background": "light"
     },
     "output_type": "display_data"
    }
   ],
   "source": [
    "out.keys()\n",
    "#out['time']\n",
    "#out['inertia3.phi']\n",
    "plt.plot(out['torque.flange.phi'])\n",
    "plt.title('Torque flange PHI')"
   ]
  },
  {
   "cell_type": "code",
   "execution_count": 28,
   "id": "administrative-postcard",
   "metadata": {},
   "outputs": [
    {
     "data": {
      "text/plain": [
       "'First example: simple drive train'"
      ]
     },
     "execution_count": 28,
     "metadata": {},
     "output_type": "execute_result"
    }
   ],
   "source": [
    "print(model.get_description())"
   ]
  },
  {
   "cell_type": "code",
   "execution_count": 29,
   "id": "constitutional-formation",
   "metadata": {},
   "outputs": [
    {
     "data": {
      "text/plain": [
       "OrderedDict()"
      ]
     },
     "execution_count": 29,
     "metadata": {},
     "output_type": "execute_result"
    }
   ],
   "source": [
    "model.get_input_list()"
   ]
  },
  {
   "cell_type": "code",
   "execution_count": 30,
   "id": "satisfactory-brooks",
   "metadata": {},
   "outputs": [
    {
     "data": {
      "text/plain": [
       "OrderedDict([('damper.phi_rel', <pyfmi.fmi.ScalarVariable2 at 0x7f0d33ea0220>),\n",
       "             ('damper.w_rel', <pyfmi.fmi.ScalarVariable2 at 0x7f0d33ea0630>),\n",
       "             ('inertia3.phi', <pyfmi.fmi.ScalarVariable2 at 0x7f0d33ea0d60>),\n",
       "             ('inertia3.w', <pyfmi.fmi.ScalarVariable2 at 0x7f0d33ea0a90>),\n",
       "             ('der(damper.phi_rel)',\n",
       "              <pyfmi.fmi.ScalarVariable2 at 0x7f0d33ea0450>),\n",
       "             ('der(damper.w_rel)',\n",
       "              <pyfmi.fmi.ScalarVariable2 at 0x7f0d39463360>),\n",
       "             ('der(inertia3.phi)',\n",
       "              <pyfmi.fmi.ScalarVariable2 at 0x7f0d33b3bdb0>),\n",
       "             ('der(inertia3.w)',\n",
       "              <pyfmi.fmi.ScalarVariable2 at 0x7f0d33b3bbd0>),\n",
       "             ('der(der(idealGear.phi_a))',\n",
       "              <pyfmi.fmi.ScalarVariable2 at 0x7f0d33b3b4f0>),\n",
       "             ('der(der(idealGear.phi_b))',\n",
       "              <pyfmi.fmi.ScalarVariable2 at 0x7f0d33b3b770>),\n",
       "             ('der(idealGear.phi_a)',\n",
       "              <pyfmi.fmi.ScalarVariable2 at 0x7f0d39176810>),\n",
       "             ('der(idealGear.phi_b)',\n",
       "              <pyfmi.fmi.ScalarVariable2 at 0x7f0d39176c20>),\n",
       "             ('der(inertia1.phi)',\n",
       "              <pyfmi.fmi.ScalarVariable2 at 0x7f0d3903b5e0>),\n",
       "             ('der(inertia1.w)',\n",
       "              <pyfmi.fmi.ScalarVariable2 at 0x7f0d3a4c2c20>),\n",
       "             ('der(inertia2.phi)',\n",
       "              <pyfmi.fmi.ScalarVariable2 at 0x7f0d3a4c26d0>),\n",
       "             ('der(inertia2.w)',\n",
       "              <pyfmi.fmi.ScalarVariable2 at 0x7f0d33c6a720>),\n",
       "             ('damper.a_rel', <pyfmi.fmi.ScalarVariable2 at 0x7f0d33c6a130>),\n",
       "             ('damper.lossPower',\n",
       "              <pyfmi.fmi.ScalarVariable2 at 0x7f0d33c6a400>),\n",
       "             ('damper.tau', <pyfmi.fmi.ScalarVariable2 at 0x7f0d33c6ab30>),\n",
       "             ('fixed.flange.tau',\n",
       "              <pyfmi.fmi.ScalarVariable2 at 0x7f0d33c6a7c0>),\n",
       "             ('idealGear.flange_a.tau',\n",
       "              <pyfmi.fmi.ScalarVariable2 at 0x7f0d33c25ae0>),\n",
       "             ('idealGear.phi_a',\n",
       "              <pyfmi.fmi.ScalarVariable2 at 0x7f0d33c25db0>),\n",
       "             ('idealGear.phi_b',\n",
       "              <pyfmi.fmi.ScalarVariable2 at 0x7f0d33c25a40>),\n",
       "             ('idealGear.support.tau',\n",
       "              <pyfmi.fmi.ScalarVariable2 at 0x7f0d33c252c0>),\n",
       "             ('inertia1.a', <pyfmi.fmi.ScalarVariable2 at 0x7f0d33c25e00>),\n",
       "             ('inertia1.phi', <pyfmi.fmi.ScalarVariable2 at 0x7f0d33c25ef0>),\n",
       "             ('inertia1.w', <pyfmi.fmi.ScalarVariable2 at 0x7f0d33c25400>),\n",
       "             ('inertia2.a', <pyfmi.fmi.ScalarVariable2 at 0x7f0d33a3a680>),\n",
       "             ('inertia2.flange_a.tau',\n",
       "              <pyfmi.fmi.ScalarVariable2 at 0x7f0d33a3ae00>),\n",
       "             ('inertia2.flange_b.tau',\n",
       "              <pyfmi.fmi.ScalarVariable2 at 0x7f0d33a3a8b0>),\n",
       "             ('inertia2.phi', <pyfmi.fmi.ScalarVariable2 at 0x7f0d33a3ad60>),\n",
       "             ('inertia2.w', <pyfmi.fmi.ScalarVariable2 at 0x7f0d33a3a9a0>),\n",
       "             ('inertia3.a', <pyfmi.fmi.ScalarVariable2 at 0x7f0d33a3a900>),\n",
       "             ('inertia3.flange_b.tau',\n",
       "              <pyfmi.fmi.ScalarVariable2 at 0x7f0d33b0bae0>),\n",
       "             ('spring.phi_rel', <pyfmi.fmi.ScalarVariable2 at 0x7f0d33b0b450>),\n",
       "             ('spring.tau', <pyfmi.fmi.ScalarVariable2 at 0x7f0d33b0bb80>),\n",
       "             ('torque.tau', <pyfmi.fmi.ScalarVariable2 at 0x7f0d33b0b6d0>),\n",
       "             ('Jload', <pyfmi.fmi.ScalarVariable2 at 0x7f0d33b0b180>),\n",
       "             ('Jmotor', <pyfmi.fmi.ScalarVariable2 at 0x7f0d33b0b680>),\n",
       "             ('amplitude', <pyfmi.fmi.ScalarVariable2 at 0x7f0d33b0b770>),\n",
       "             ('damper.d', <pyfmi.fmi.ScalarVariable2 at 0x7f0d33b0ba90>),\n",
       "             ('damper.flange_b.phi',\n",
       "              <pyfmi.fmi.ScalarVariable2 at 0x7f0d33f10b80>),\n",
       "             ('damper.phi_nominal',\n",
       "              <pyfmi.fmi.ScalarVariable2 at 0x7f0d3910dea0>),\n",
       "             ('damping', <pyfmi.fmi.ScalarVariable2 at 0x7f0d3910d9a0>),\n",
       "             ('f', <pyfmi.fmi.ScalarVariable2 at 0x7f0d390cec70>),\n",
       "             ('fixed.flange.phi',\n",
       "              <pyfmi.fmi.ScalarVariable2 at 0x7f0d33c554f0>),\n",
       "             ('fixed.phi0', <pyfmi.fmi.ScalarVariable2 at 0x7f0d33c55cc0>),\n",
       "             ('idealGear.phi_support',\n",
       "              <pyfmi.fmi.ScalarVariable2 at 0x7f0d33c559f0>),\n",
       "             ('idealGear.ratio',\n",
       "              <pyfmi.fmi.ScalarVariable2 at 0x7f0d33c55220>),\n",
       "             ('idealGear.support.phi',\n",
       "              <pyfmi.fmi.ScalarVariable2 at 0x7f0d33c55e00>),\n",
       "             ('inertia1.J', <pyfmi.fmi.ScalarVariable2 at 0x7f0d39128f40>),\n",
       "             ('inertia2.J', <pyfmi.fmi.ScalarVariable2 at 0x7f0d33c00360>),\n",
       "             ('inertia3.J', <pyfmi.fmi.ScalarVariable2 at 0x7f0d33c00a40>),\n",
       "             ('ratio', <pyfmi.fmi.ScalarVariable2 at 0x7f0d33c00d60>),\n",
       "             ('sine.amplitude', <pyfmi.fmi.ScalarVariable2 at 0x7f0d33c00a90>),\n",
       "             ('sine.f', <pyfmi.fmi.ScalarVariable2 at 0x7f0d33c00900>),\n",
       "             ('sine.offset', <pyfmi.fmi.ScalarVariable2 at 0x7f0d38fca310>),\n",
       "             ('sine.phase', <pyfmi.fmi.ScalarVariable2 at 0x7f0d38fca900>),\n",
       "             ('sine.startTime', <pyfmi.fmi.ScalarVariable2 at 0x7f0d3904a5e0>),\n",
       "             ('spring.c', <pyfmi.fmi.ScalarVariable2 at 0x7f0d33fbbb80>),\n",
       "             ('spring.phi_rel0',\n",
       "              <pyfmi.fmi.ScalarVariable2 at 0x7f0d33c46e50>),\n",
       "             ('torque.phi_support',\n",
       "              <pyfmi.fmi.ScalarVariable2 at 0x7f0d3911e040>),\n",
       "             ('torque.support.phi',\n",
       "              <pyfmi.fmi.ScalarVariable2 at 0x7f0d3911e900>),\n",
       "             ('damper.flange_a.phi',\n",
       "              <pyfmi.fmi.ScalarVariable2 at 0x7f0d33f8b9a0>),\n",
       "             ('damper.flange_a.tau',\n",
       "              <pyfmi.fmi.ScalarVariable2 at 0x7f0d33f8bbd0>),\n",
       "             ('damper.flange_b.tau',\n",
       "              <pyfmi.fmi.ScalarVariable2 at 0x7f0d33f8b130>),\n",
       "             ('idealGear.flange_a.phi',\n",
       "              <pyfmi.fmi.ScalarVariable2 at 0x7f0d33f8b9f0>),\n",
       "             ('idealGear.flange_b.phi',\n",
       "              <pyfmi.fmi.ScalarVariable2 at 0x7f0d33f8b630>),\n",
       "             ('idealGear.flange_b.tau',\n",
       "              <pyfmi.fmi.ScalarVariable2 at 0x7f0d33b9bc20>),\n",
       "             ('inertia1.flange_a.phi',\n",
       "              <pyfmi.fmi.ScalarVariable2 at 0x7f0d33b9b1d0>),\n",
       "             ('inertia1.flange_a.tau',\n",
       "              <pyfmi.fmi.ScalarVariable2 at 0x7f0d33b9ba40>),\n",
       "             ('inertia1.flange_b.phi',\n",
       "              <pyfmi.fmi.ScalarVariable2 at 0x7f0d33b9bcc0>),\n",
       "             ('inertia1.flange_b.tau',\n",
       "              <pyfmi.fmi.ScalarVariable2 at 0x7f0d33b9bf40>),\n",
       "             ('inertia2.flange_a.phi',\n",
       "              <pyfmi.fmi.ScalarVariable2 at 0x7f0d33b9bdb0>),\n",
       "             ('inertia2.flange_b.phi',\n",
       "              <pyfmi.fmi.ScalarVariable2 at 0x7f0d339c5360>),\n",
       "             ('inertia3.flange_a.phi',\n",
       "              <pyfmi.fmi.ScalarVariable2 at 0x7f0d339c5400>),\n",
       "             ('inertia3.flange_a.tau',\n",
       "              <pyfmi.fmi.ScalarVariable2 at 0x7f0d339c5180>),\n",
       "             ('inertia3.flange_b.phi',\n",
       "              <pyfmi.fmi.ScalarVariable2 at 0x7f0d339c5b80>),\n",
       "             ('sine.y', <pyfmi.fmi.ScalarVariable2 at 0x7f0d339c5900>),\n",
       "             ('spring.flange_a.phi',\n",
       "              <pyfmi.fmi.ScalarVariable2 at 0x7f0d339c5860>),\n",
       "             ('spring.flange_a.tau',\n",
       "              <pyfmi.fmi.ScalarVariable2 at 0x7f0d339c5f40>),\n",
       "             ('spring.flange_b.phi',\n",
       "              <pyfmi.fmi.ScalarVariable2 at 0x7f0d339c5cc0>),\n",
       "             ('spring.flange_b.tau',\n",
       "              <pyfmi.fmi.ScalarVariable2 at 0x7f0d339da450>),\n",
       "             ('torque.flange.phi',\n",
       "              <pyfmi.fmi.ScalarVariable2 at 0x7f0d339da270>),\n",
       "             ('torque.flange.tau',\n",
       "              <pyfmi.fmi.ScalarVariable2 at 0x7f0d339da590>),\n",
       "             ('torque.support.tau',\n",
       "              <pyfmi.fmi.ScalarVariable2 at 0x7f0d339dabd0>),\n",
       "             ('damper.stateSelect',\n",
       "              <pyfmi.fmi.ScalarVariable2 at 0x7f0d339da9f0>),\n",
       "             ('inertia1.stateSelect',\n",
       "              <pyfmi.fmi.ScalarVariable2 at 0x7f0d339dae00>),\n",
       "             ('inertia2.stateSelect',\n",
       "              <pyfmi.fmi.ScalarVariable2 at 0x7f0d339da0e0>),\n",
       "             ('inertia3.stateSelect',\n",
       "              <pyfmi.fmi.ScalarVariable2 at 0x7f0d339da180>),\n",
       "             ('damper.useHeatPort',\n",
       "              <pyfmi.fmi.ScalarVariable2 at 0x7f0d339989a0>),\n",
       "             ('idealGear.useSupport',\n",
       "              <pyfmi.fmi.ScalarVariable2 at 0x7f0d33998590>),\n",
       "             ('torque.useSupport',\n",
       "              <pyfmi.fmi.ScalarVariable2 at 0x7f0d33998720>)])"
      ]
     },
     "execution_count": 30,
     "metadata": {},
     "output_type": "execute_result"
    }
   ],
   "source": [
    "model.get_model_variables()"
   ]
  },
  {
   "cell_type": "code",
   "execution_count": 31,
   "id": "romantic-stadium",
   "metadata": {},
   "outputs": [
    {
     "ename": "AttributeError",
     "evalue": "'pyfmi.fmi.FMUModelME2' object has no attribute 'inertia1'",
     "output_type": "error",
     "traceback": [
      "\u001b[0;31m---------------------------------------------------------------------------\u001b[0m",
      "\u001b[0;31mAttributeError\u001b[0m                            Traceback (most recent call last)",
      "\u001b[0;32m<ipython-input-31-d03152350b54>\u001b[0m in \u001b[0;36m<module>\u001b[0;34m\u001b[0m\n\u001b[0;32m----> 1\u001b[0;31m \u001b[0mmodel\u001b[0m\u001b[0;34m.\u001b[0m\u001b[0minertia1\u001b[0m\u001b[0;34m\u001b[0m\u001b[0;34m\u001b[0m\u001b[0m\n\u001b[0m",
      "\u001b[0;31mAttributeError\u001b[0m: 'pyfmi.fmi.FMUModelME2' object has no attribute 'inertia1'"
     ]
    }
   ],
   "source": [
    "model.inertia1"
   ]
  },
  {
   "cell_type": "code",
   "execution_count": null,
   "id": "optional-bench",
   "metadata": {},
   "outputs": [],
   "source": []
  }
 ],
 "metadata": {
  "kernelspec": {
   "display_name": "Python 3",
   "language": "python",
   "name": "python3"
  },
  "language_info": {
   "codemirror_mode": {
    "name": "ipython",
    "version": 3
   },
   "file_extension": ".py",
   "mimetype": "text/x-python",
   "name": "python",
   "nbconvert_exporter": "python",
   "pygments_lexer": "ipython3",
   "version": "3.8.8"
  }
 },
 "nbformat": 4,
 "nbformat_minor": 5
}
