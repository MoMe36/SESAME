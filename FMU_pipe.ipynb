{
 "cells": [
  {
   "cell_type": "code",
   "execution_count": 1,
   "id": "blank-donna",
   "metadata": {},
   "outputs": [],
   "source": [
    "from pyfmi import load_fmu\n",
    "import matplotlib.pyplot as plt\n",
    "import numpy as np"
   ]
  },
  {
   "cell_type": "code",
   "execution_count": 2,
   "id": "chubby-highlight",
   "metadata": {
    "scrolled": false
   },
   "outputs": [
    {
     "ename": "InvalidBinaryException",
     "evalue": "The FMU could not be loaded. Error loading the binary. The FMU contains no binary for this platform.",
     "output_type": "error",
     "traceback": [
      "\u001b[0;31m---------------------------------------------------------------------------\u001b[0m",
      "\u001b[0;31mInvalidBinaryException\u001b[0m                    Traceback (most recent call last)",
      "\u001b[0;32m<ipython-input-2-aa668e9aa4f7>\u001b[0m in \u001b[0;36m<module>\u001b[0;34m\u001b[0m\n\u001b[0;32m----> 1\u001b[0;31m \u001b[0mmodel\u001b[0m \u001b[0;34m=\u001b[0m \u001b[0mload_fmu\u001b[0m\u001b[0;34m(\u001b[0m\u001b[0;34m'FMU_equation_SOC.fmu'\u001b[0m\u001b[0;34m)\u001b[0m\u001b[0;34m\u001b[0m\u001b[0;34m\u001b[0m\u001b[0m\n\u001b[0m\u001b[1;32m      2\u001b[0m \u001b[0;34m\u001b[0m\u001b[0m\n\u001b[1;32m      3\u001b[0m \u001b[0mtime\u001b[0m \u001b[0;34m=\u001b[0m \u001b[0mnp\u001b[0m\u001b[0;34m.\u001b[0m\u001b[0mlinspace\u001b[0m\u001b[0;34m(\u001b[0m\u001b[0;36m0\u001b[0m\u001b[0;34m,\u001b[0m\u001b[0;36m1\u001b[0m\u001b[0;34m,\u001b[0m\u001b[0;36m5\u001b[0m\u001b[0;34m)\u001b[0m\u001b[0;34m\u001b[0m\u001b[0;34m\u001b[0m\u001b[0m\n\u001b[1;32m      4\u001b[0m \u001b[0mtarget_p_storage\u001b[0m \u001b[0;34m=\u001b[0m \u001b[0mnp\u001b[0m\u001b[0;34m.\u001b[0m\u001b[0mones_like\u001b[0m\u001b[0;34m(\u001b[0m\u001b[0mtime\u001b[0m\u001b[0;34m)\u001b[0m \u001b[0;34m*\u001b[0m \u001b[0;36m0.3\u001b[0m\u001b[0;34m\u001b[0m\u001b[0;34m\u001b[0m\u001b[0m\n\u001b[1;32m      5\u001b[0m \u001b[0mprod\u001b[0m \u001b[0;34m=\u001b[0m \u001b[0mnp\u001b[0m\u001b[0;34m.\u001b[0m\u001b[0mlinspace\u001b[0m\u001b[0;34m(\u001b[0m\u001b[0;36m50\u001b[0m\u001b[0;34m,\u001b[0m\u001b[0;36m80\u001b[0m\u001b[0;34m,\u001b[0m \u001b[0mtime\u001b[0m\u001b[0;34m.\u001b[0m\u001b[0mshape\u001b[0m\u001b[0;34m[\u001b[0m\u001b[0;36m0\u001b[0m\u001b[0;34m]\u001b[0m\u001b[0;34m)\u001b[0m\u001b[0;34m\u001b[0m\u001b[0;34m\u001b[0m\u001b[0m\n",
      "\u001b[0;32msrc/pyfmi/fmi.pyx\u001b[0m in \u001b[0;36mpyfmi.fmi.load_fmu\u001b[0;34m()\u001b[0m\n",
      "\u001b[0;32msrc/pyfmi/fmi.pyx\u001b[0m in \u001b[0;36mpyfmi.fmi.FMUModelME2.__init__\u001b[0;34m()\u001b[0m\n",
      "\u001b[0;32msrc/pyfmi/fmi.pyx\u001b[0m in \u001b[0;36mpyfmi.fmi.FMUModelBase2.__init__\u001b[0;34m()\u001b[0m\n",
      "\u001b[0;31mInvalidBinaryException\u001b[0m: The FMU could not be loaded. Error loading the binary. The FMU contains no binary for this platform."
     ]
    }
   ],
   "source": [
    "model = load_fmu('FMU_equation_SOC.fmu')\n",
    "\n",
    "time = np.linspace(0,1,5)\n",
    "target_p_storage = np.ones_like(time) * 0.3\n",
    "prod = np.linspace(50,80, time.shape[0])\n",
    "sell = np.zeros_like(time)\n",
    "soc = np.ones_like(time) * 0.4\n",
    "\n",
    "model.set('SOC', 0.1)\n",
    "model.set('Prod', 50)\n",
    "model.set('Pstorage', 0.1)\n",
    "model.set('Sell', 0)"
   ]
  },
  {
   "cell_type": "code",
   "execution_count": 97,
   "id": "appreciated-integer",
   "metadata": {
    "scrolled": false
   },
   "outputs": [
    {
     "name": "stdout",
     "output_type": "stream",
     "text": [
      "Final Run Statistics: --- \n",
      "\n",
      "\n",
      "Solver options:\n",
      "\n",
      " Solver                   : CVode\n",
      " Linear multistep method  : BDF\n",
      " Nonlinear solver         : Newton\n",
      " Linear solver type       : DENSE\n",
      " Maximal order            : 5\n",
      " Tolerances (absolute)    : 1e-08\n",
      " Tolerances (relative)    : 1e-06\n",
      "\n",
      "Simulation interval    : 1.0 - 1.0 seconds.\n",
      "Elapsed simulation time: 0.0002426999999443069 seconds.\n"
     ]
    }
   ],
   "source": [
    "#traj = np.hstack([time.reshape(-1,1),target_p_storage,reshape(-1,1),prod.reshape(-1,1)], sell,reshape(-1,1))\n",
    "soc_traj = ('SOC', np.hstack([time.reshape(-1,1), soc.reshape(-1,1)]))\n",
    "prod_traj = ('Prod', np.hstack([time.reshape(-1,1), prod.reshape(-1,1)]))\n",
    "sell_traj = ('Sell', np.hstack([time.reshape(-1,1), sell.reshape(-1,1)]))\n",
    "target_p_storage_traj = ('Pstorage', np.hstack([time.reshape(-1,1), target_p_storage.reshape(-1,1)]))\n",
    "\n",
    "input_object = ['SOC','Prod','Pstorage','Sell'],np.hstack([time.reshape(-1,1), soc.reshape(-1,1),prod.reshape(-1,1),target_p_storage.reshape(-1,1),sell.reshape(-1,1)])\n",
    "\n",
    "#res = model.simulate(start_time = time[0], final_time = time[-1],input = input_object)\n",
    "res = model.simulate(start_time = 1, final_time = time[-1])"
   ]
  },
  {
   "cell_type": "code",
   "execution_count": 98,
   "id": "8e0c4b5a",
   "metadata": {
    "scrolled": false
   },
   "outputs": [
    {
     "data": {
      "text/plain": [
       "array([3.6])"
      ]
     },
     "execution_count": 98,
     "metadata": {},
     "output_type": "execute_result"
    }
   ],
   "source": [
    "# Retrieve the result for the variables\n",
    "NEXT_SOC  = res['NEXT_SOC']\n",
    "NEXT_SOC\n",
    "#input_object"
   ]
  },
  {
   "cell_type": "code",
   "execution_count": null,
   "id": "090d1e0f",
   "metadata": {},
   "outputs": [],
   "source": []
  },
  {
   "cell_type": "code",
   "execution_count": null,
   "id": "fdfd7ae0",
   "metadata": {},
   "outputs": [],
   "source": []
  }
 ],
 "metadata": {
  "kernelspec": {
   "display_name": "Python 3",
   "language": "python",
   "name": "python3"
  },
  "language_info": {
   "codemirror_mode": {
    "name": "ipython",
    "version": 3
   },
   "file_extension": ".py",
   "mimetype": "text/x-python",
   "name": "python",
   "nbconvert_exporter": "python",
   "pygments_lexer": "ipython3",
   "version": "3.8.8"
  }
 },
 "nbformat": 4,
 "nbformat_minor": 5
}
