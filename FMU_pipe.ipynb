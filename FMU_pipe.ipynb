{
 "cells": [
  {
   "cell_type": "code",
   "execution_count": 1,
   "id": "blank-donna",
   "metadata": {},
   "outputs": [],
   "source": [
    "from pyfmi import load_fmu\n",
    "import matplotlib.pyplot as plt\n",
    "import numpy as np"
   ]
  },
  {
   "cell_type": "code",
   "execution_count": 2,
   "id": "chubby-highlight",
   "metadata": {},
   "outputs": [
    {
     "ename": "FMUException",
     "evalue": "Could not locate the FMU in the specified directory.",
     "output_type": "error",
     "traceback": [
      "\u001b[0;31m---------------------------------------------------------------------------\u001b[0m",
      "\u001b[0;31mFMUException\u001b[0m                              Traceback (most recent call last)",
      "\u001b[0;32m<ipython-input-2-6898bc6beac2>\u001b[0m in \u001b[0;36m<module>\u001b[0;34m\u001b[0m\n\u001b[0;32m----> 1\u001b[0;31m \u001b[0mmodel\u001b[0m \u001b[0;34m=\u001b[0m \u001b[0mload_fmu\u001b[0m\u001b[0;34m(\u001b[0m\u001b[0;34m'sesame_fmu.fmu'\u001b[0m\u001b[0;34m)\u001b[0m\u001b[0;34m\u001b[0m\u001b[0;34m\u001b[0m\u001b[0m\n\u001b[0m\u001b[1;32m      2\u001b[0m \u001b[0;34m\u001b[0m\u001b[0m\n\u001b[1;32m      3\u001b[0m \u001b[0mmodel\u001b[0m\u001b[0;34m.\u001b[0m\u001b[0mset\u001b[0m\u001b[0;34m(\u001b[0m\u001b[0;34m'soc'\u001b[0m\u001b[0;34m,\u001b[0m \u001b[0;36m0.1\u001b[0m\u001b[0;34m)\u001b[0m\u001b[0;34m\u001b[0m\u001b[0;34m\u001b[0m\u001b[0m\n\u001b[1;32m      4\u001b[0m \u001b[0mmodel\u001b[0m\u001b[0;34m.\u001b[0m\u001b[0mset\u001b[0m\u001b[0;34m(\u001b[0m\u001b[0;34m'prod'\u001b[0m\u001b[0;34m,\u001b[0m \u001b[0;36m50\u001b[0m\u001b[0;34m)\u001b[0m\u001b[0;34m\u001b[0m\u001b[0;34m\u001b[0m\u001b[0m\n",
      "\u001b[0;32msrc/pyfmi/fmi.pyx\u001b[0m in \u001b[0;36mpyfmi.fmi.load_fmu\u001b[0;34m()\u001b[0m\n",
      "\u001b[0;32msrc/pyfmi/fmi.pyx\u001b[0m in \u001b[0;36mpyfmi.fmi.check_fmu_args\u001b[0;34m()\u001b[0m\n",
      "\u001b[0;31mFMUException\u001b[0m: Could not locate the FMU in the specified directory."
     ]
    }
   ],
   "source": [
    "model = load_fmu('sesame_fmu.fmu')\n",
    "\n",
    "time = np.linspace(0,20,100)\n",
    "target_p_storage = np.ones_like(time) * 0.3\n",
    "prod = np.linspace(50,80, size = time.shape)\n",
    "\n",
    "model.set('soc', 0.1)\n",
    "model.set('prod', 50)"
   ]
  },
  {
   "cell_type": "code",
   "execution_count": null,
   "id": "appreciated-integer",
   "metadata": {},
   "outputs": [],
   "source": [
    "traj = \n",
    "res = model.simulate(start_time = 1, final_time = time[-1], input = )"
   ]
  }
 ],
 "metadata": {
  "kernelspec": {
   "display_name": "Python 3",
   "language": "python",
   "name": "python3"
  },
  "language_info": {
   "codemirror_mode": {
    "name": "ipython",
    "version": 3
   },
   "file_extension": ".py",
   "mimetype": "text/x-python",
   "name": "python",
   "nbconvert_exporter": "python",
   "pygments_lexer": "ipython3",
   "version": "3.8.8"
  }
 },
 "nbformat": 4,
 "nbformat_minor": 5
}
