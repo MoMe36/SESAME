{
 "cells": [
  {
   "cell_type": "code",
   "execution_count": 95,
   "id": "blank-donna",
   "metadata": {},
   "outputs": [],
   "source": [
    "from pyfmi import load_fmu\n",
    "import matplotlib.pyplot as plt\n",
    "import numpy as np"
   ]
  },
  {
   "cell_type": "code",
   "execution_count": 96,
   "id": "chubby-highlight",
   "metadata": {
    "scrolled": false
   },
   "outputs": [
    {
     "name": "stderr",
     "output_type": "stream",
     "text": [
      "<ipython-input-96-aa668e9aa4f7>:9: DeprecationWarning: `np.float` is a deprecated alias for the builtin `float`. To silence this warning, use `float` by itself. Doing this will not modify any behavior and is safe. If you specifically wanted the numpy scalar type, use `np.float64` here.\n",
      "Deprecated in NumPy 1.20; for more details and guidance: https://numpy.org/devdocs/release/1.20.0-notes.html#deprecations\n",
      "  model.set('SOC', 0.1)\n",
      "<ipython-input-96-aa668e9aa4f7>:10: DeprecationWarning: `np.float` is a deprecated alias for the builtin `float`. To silence this warning, use `float` by itself. Doing this will not modify any behavior and is safe. If you specifically wanted the numpy scalar type, use `np.float64` here.\n",
      "Deprecated in NumPy 1.20; for more details and guidance: https://numpy.org/devdocs/release/1.20.0-notes.html#deprecations\n",
      "  model.set('Prod', 50)\n",
      "<ipython-input-96-aa668e9aa4f7>:11: DeprecationWarning: `np.float` is a deprecated alias for the builtin `float`. To silence this warning, use `float` by itself. Doing this will not modify any behavior and is safe. If you specifically wanted the numpy scalar type, use `np.float64` here.\n",
      "Deprecated in NumPy 1.20; for more details and guidance: https://numpy.org/devdocs/release/1.20.0-notes.html#deprecations\n",
      "  model.set('Pstorage', 0.1)\n",
      "<ipython-input-96-aa668e9aa4f7>:12: DeprecationWarning: `np.float` is a deprecated alias for the builtin `float`. To silence this warning, use `float` by itself. Doing this will not modify any behavior and is safe. If you specifically wanted the numpy scalar type, use `np.float64` here.\n",
      "Deprecated in NumPy 1.20; for more details and guidance: https://numpy.org/devdocs/release/1.20.0-notes.html#deprecations\n",
      "  model.set('Sell', 0)\n"
     ]
    }
   ],
   "source": [
    "model = load_fmu('FMU_equation_SOC.fmu')\n",
    "\n",
    "time = np.linspace(0,1,5)\n",
    "target_p_storage = np.ones_like(time) * 0.3\n",
    "prod = np.linspace(50,80, time.shape[0])\n",
    "sell = np.zeros_like(time)\n",
    "soc = np.ones_like(time) * 0.4\n",
    "\n",
    "model.set('SOC', 0.1)\n",
    "model.set('Prod', 50)\n",
    "model.set('Pstorage', 0.1)\n",
    "model.set('Sell', 0)"
   ]
  },
  {
   "cell_type": "code",
   "execution_count": 97,
   "id": "appreciated-integer",
   "metadata": {
    "scrolled": false
   },
   "outputs": [
    {
     "name": "stdout",
     "output_type": "stream",
     "text": [
      "Final Run Statistics: --- \n",
      "\n",
      "\n",
      "Solver options:\n",
      "\n",
      " Solver                   : CVode\n",
      " Linear multistep method  : BDF\n",
      " Nonlinear solver         : Newton\n",
      " Linear solver type       : DENSE\n",
      " Maximal order            : 5\n",
      " Tolerances (absolute)    : 1e-08\n",
      " Tolerances (relative)    : 1e-06\n",
      "\n",
      "Simulation interval    : 1.0 - 1.0 seconds.\n",
      "Elapsed simulation time: 0.0002426999999443069 seconds.\n"
     ]
    }
   ],
   "source": [
    "#traj = np.hstack([time.reshape(-1,1),target_p_storage,reshape(-1,1),prod.reshape(-1,1)], sell,reshape(-1,1))\n",
    "soc_traj = ('SOC', np.hstack([time.reshape(-1,1), soc.reshape(-1,1)]))\n",
    "prod_traj = ('Prod', np.hstack([time.reshape(-1,1), prod.reshape(-1,1)]))\n",
    "sell_traj = ('Sell', np.hstack([time.reshape(-1,1), sell.reshape(-1,1)]))\n",
    "target_p_storage_traj = ('Pstorage', np.hstack([time.reshape(-1,1), target_p_storage.reshape(-1,1)]))\n",
    "\n",
    "input_object = ['SOC','Prod','Pstorage','Sell'],np.hstack([time.reshape(-1,1), soc.reshape(-1,1),prod.reshape(-1,1),target_p_storage.reshape(-1,1),sell.reshape(-1,1)])\n",
    "\n",
    "#res = model.simulate(start_time = time[0], final_time = time[-1],input = input_object)\n",
    "res = model.simulate(start_time = 1, final_time = time[-1])"
   ]
  },
  {
   "cell_type": "code",
   "execution_count": 98,
   "id": "8e0c4b5a",
   "metadata": {
    "scrolled": false
   },
   "outputs": [
    {
     "data": {
      "text/plain": [
       "array([3.6])"
      ]
     },
     "execution_count": 98,
     "metadata": {},
     "output_type": "execute_result"
    }
   ],
   "source": [
    "# Retrieve the result for the variables\n",
    "NEXT_SOC  = res['NEXT_SOC']\n",
    "NEXT_SOC\n",
    "#input_object"
   ]
  },
  {
   "cell_type": "code",
   "execution_count": null,
   "id": "090d1e0f",
   "metadata": {},
   "outputs": [],
   "source": []
  },
  {
   "cell_type": "code",
   "execution_count": null,
   "id": "fdfd7ae0",
   "metadata": {},
   "outputs": [],
   "source": []
  }
 ],
 "metadata": {
  "kernelspec": {
   "display_name": "Python 3",
   "language": "python",
   "name": "python3"
  },
  "language_info": {
   "codemirror_mode": {
    "name": "ipython",
    "version": 3
   },
   "file_extension": ".py",
   "mimetype": "text/x-python",
   "name": "python",
   "nbconvert_exporter": "python",
   "pygments_lexer": "ipython3",
   "version": "3.8.8"
  }
 },
 "nbformat": 4,
 "nbformat_minor": 5
}
