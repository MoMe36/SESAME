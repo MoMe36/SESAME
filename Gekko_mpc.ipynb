{
 "cells": [
  {
   "cell_type": "markdown",
   "id": "bronze-mobility",
   "metadata": {},
   "source": [
    "### Essayer: https://gekko.readthedocs.io/en/latest/examples.html"
   ]
  },
  {
   "cell_type": "code",
   "execution_count": 1,
   "id": "amber-establishment",
   "metadata": {},
   "outputs": [],
   "source": [
    "import gekko \n",
    "import numpy as np \n",
    "import matplotlib.pyplot as plt "
   ]
  },
  {
   "cell_type": "code",
   "execution_count": null,
   "id": "great-enzyme",
   "metadata": {},
   "outputs": [],
   "source": [
    "cost = sum(q_i * p_i) + q_l *p_l # sum of sold instances times price at specified time. \n",
    "                                # Takes also into account remaining battery load\n",
    "state = [SOC, pred_prod, pred_price]\n",
    "model = \n",
    "    SOC_t+1 = SOC_t + efficiency * p_storage * prod_i\n",
    "    "
   ]
  },
  {
   "cell_type": "code",
   "execution_count": null,
   "id": "persistent-navigation",
   "metadata": {},
   "outputs": [],
   "source": []
  }
 ],
 "metadata": {
  "kernelspec": {
   "display_name": "Python 3",
   "language": "python",
   "name": "python3"
  },
  "language_info": {
   "codemirror_mode": {
    "name": "ipython",
    "version": 3
   },
   "file_extension": ".py",
   "mimetype": "text/x-python",
   "name": "python",
   "nbconvert_exporter": "python",
   "pygments_lexer": "ipython3",
   "version": "3.8.8"
  }
 },
 "nbformat": 4,
 "nbformat_minor": 5
}
