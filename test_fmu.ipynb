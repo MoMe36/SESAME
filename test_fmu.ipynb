{
 "cells": [
  {
   "cell_type": "code",
   "execution_count": 77,
   "id": "challenging-fishing",
   "metadata": {},
   "outputs": [],
   "source": [
    "import OMPython as om\n",
    "import matplotlib.pyplot as plt \n",
    "from pyfmi import load_fmu\n",
    "plt.style.use('ggplot')\n",
    "import numpy as np "
   ]
  },
  {
   "cell_type": "code",
   "execution_count": 12,
   "id": "ranging-instrumentation",
   "metadata": {},
   "outputs": [
    {
     "name": "stdout",
     "output_type": "stream",
     "text": [
      "Modelica.Mechanics.Rotational.Examples.First.fmu\r\n",
      "Modelica_Mechanics_Rotational_Examples_First_FMU.libs\r\n",
      "Modelica_Mechanics_Rotational_Examples_First_FMU.log\r\n",
      "Modelica_Mechanics_Rotational_Examples_First_FMU.makefile\r\n",
      "Modelica_Mechanics_Rotational_Examples_First.log\r\n"
     ]
    }
   ],
   "source": [
    "!ls test_fmu/"
   ]
  },
  {
   "cell_type": "code",
   "execution_count": 49,
   "id": "color-lambda",
   "metadata": {},
   "outputs": [
    {
     "name": "stdout",
     "output_type": "stream",
     "text": [
      "<pyfmi.fmi.FMUModelME2 object at 0x555567a20340>\n"
     ]
    }
   ],
   "source": [
    "model = load_fmu('test_fmu/Modelica.Mechanics.Rotational.Examples.First.fmu')\n",
    "print(model) "
   ]
  },
  {
   "cell_type": "code",
   "execution_count": 63,
   "id": "catholic-chase",
   "metadata": {},
   "outputs": [
    {
     "data": {
      "text/plain": [
       "0"
      ]
     },
     "execution_count": 63,
     "metadata": {},
     "output_type": "execute_result"
    }
   ],
   "source": [
    "#model.get_model_variables()\n",
    "#model.get_variable_initial('sine.amplitude')\n",
    "#model.get_variable_valueref('sine.amplitude')\n",
    "model.get_variable_initial('spring.c')"
   ]
  },
  {
   "cell_type": "code",
   "execution_count": 21,
   "id": "governmental-pursuit",
   "metadata": {},
   "outputs": [
    {
     "name": "stdout",
     "output_type": "stream",
     "text": [
      "{'solver': 'CVode', 'ncp': 500, 'initialize': True, 'sensitivities': None, 'write_scaled_result': False, 'result_file_name': '', 'with_jacobian': 'Default', 'logging': False, 'result_handling': 'binary', 'result_handler': None, 'return_result': True, 'result_store_variable_description': True, 'filter': None, 'extra_equations': None, 'CVode_options': {'discr': 'BDF', 'iter': 'Newton', 'atol': 'Default', 'rtol': 'Default', 'maxh': 'Default', 'external_event_detection': False}, 'Radau5ODE_options': {'atol': 'Default', 'rtol': 'Default', 'maxh': 'Default'}, 'RungeKutta34_options': {'atol': 'Default', 'rtol': 'Default'}, 'Dopri5_options': {'atol': 'Default', 'rtol': 'Default', 'maxh': 'Default'}, 'RodasODE_options': {'atol': 'Default', 'rtol': 'Default', 'maxh': 'Default'}, 'LSODAR_options': {'atol': 'Default', 'rtol': 'Default', 'maxh': 'Default'}, 'ExplicitEuler_options': {}, 'ImplicitEuler_options': {}}\n"
     ]
    }
   ],
   "source": [
    "print(model.simulate_options())"
   ]
  },
  {
   "cell_type": "code",
   "execution_count": 22,
   "id": "congressional-russian",
   "metadata": {},
   "outputs": [
    {
     "name": "stdout",
     "output_type": "stream",
     "text": [
      "Final Run Statistics: --- \n",
      "\n",
      " Number of steps                                 : 4091\n",
      " Number of function evaluations                  : 5114\n",
      " Number of Jacobian evaluations                  : 71\n",
      " Number of function eval. due to Jacobian eval.  : 284\n",
      " Number of error test failures                   : 212\n",
      " Number of nonlinear iterations                  : 5111\n",
      " Number of nonlinear convergence failures        : 0\n",
      " Number of state function evaluations            : 4092\n",
      "\n",
      "Solver options:\n",
      "\n",
      " Solver                   : CVode\n",
      " Linear multistep method  : BDF\n",
      " Nonlinear solver         : Newton\n",
      " Linear solver type       : DENSE\n",
      " Maximal order            : 5\n",
      " Tolerances (absolute)    : 1e-08\n",
      " Tolerances (relative)    : 1e-06\n",
      "\n",
      "Simulation interval    : 0.0 - 10.0 seconds.\n",
      "Elapsed simulation time: 0.055241902000034315 seconds.\n"
     ]
    }
   ],
   "source": [
    "out = model.simulate(start_time = 0, final_time = 10)"
   ]
  },
  {
   "cell_type": "code",
   "execution_count": 48,
   "id": "original-confidentiality",
   "metadata": {},
   "outputs": [
    {
     "data": {
      "text/plain": [
       "Text(0.5, 1.0, 'Torque flange PHI')"
      ]
     },
     "execution_count": 48,
     "metadata": {},
     "output_type": "execute_result"
    },
    {
     "data": {
      "image/png": "[encoded data removed]",
      "text/plain": [
       "<Figure size 432x288 with 1 Axes>"
      ]
     },
     "metadata": {},
     "output_type": "display_data"
    }
   ],
   "source": [
    "out.keys()\n",
    "#out['time']\n",
    "#out['inertia3.phi']\n",
    "plt.plot(out['torque.flange.phi'])\n",
    "plt.title('Torque flange PHI')"
   ]
  },
  {
   "cell_type": "code",
   "execution_count": 67,
   "id": "rotary-electron",
   "metadata": {},
   "outputs": [
    {
     "ename": "VariableNotFoundError",
     "evalue": "Cannot find variable sine in data file.",
     "output_type": "error",
     "traceback": [
      "\u001b[0;31m---------------------------------------------------------------------------\u001b[0m",
      "\u001b[0;31mKeyError\u001b[0m                                  Traceback (most recent call last)",
      "\u001b[0;32m~/miniconda3/envs/MLAgents/lib/python3.8/site-packages/pyfmi/common/io.py\u001b[0m in \u001b[0;36mget_variable_index\u001b[0;34m(self, name)\u001b[0m\n\u001b[1;32m    146\u001b[0m             \u001b[0;32mif\u001b[0m \u001b[0mpython3_flag\u001b[0m \u001b[0;32mand\u001b[0m \u001b[0misinstance\u001b[0m\u001b[0;34m(\u001b[0m\u001b[0mself\u001b[0m\u001b[0;34m,\u001b[0m \u001b[0mResultDymolaBinary\u001b[0m\u001b[0;34m)\u001b[0m\u001b[0;34m:\u001b[0m\u001b[0;34m\u001b[0m\u001b[0;34m\u001b[0m\u001b[0m\n\u001b[0;32m--> 147\u001b[0;31m                 \u001b[0;32mreturn\u001b[0m \u001b[0mself\u001b[0m\u001b[0;34m.\u001b[0m\u001b[0mname_lookup\u001b[0m\u001b[0;34m[\u001b[0m\u001b[0mencode\u001b[0m\u001b[0;34m(\u001b[0m\u001b[0mname\u001b[0m\u001b[0;34m)\u001b[0m\u001b[0;34m]\u001b[0m\u001b[0;34m\u001b[0m\u001b[0;34m\u001b[0m\u001b[0m\n\u001b[0m\u001b[1;32m    148\u001b[0m             \u001b[0;32melse\u001b[0m\u001b[0;34m:\u001b[0m\u001b[0;34m\u001b[0m\u001b[0;34m\u001b[0m\u001b[0m\n",
      "\u001b[0;31mKeyError\u001b[0m: b'sine'",
      "\nDuring handling of the above exception, another exception occurred:\n",
      "\u001b[0;31mVariableNotFoundError\u001b[0m                     Traceback (most recent call last)",
      "\u001b[0;32m<ipython-input-67-69f8a4ca8815>\u001b[0m in \u001b[0;36m<module>\u001b[0;34m\u001b[0m\n\u001b[0;32m----> 1\u001b[0;31m \u001b[0mplt\u001b[0m\u001b[0;34m.\u001b[0m\u001b[0mplot\u001b[0m\u001b[0;34m(\u001b[0m\u001b[0mout\u001b[0m\u001b[0;34m[\u001b[0m\u001b[0;34m'sine'\u001b[0m\u001b[0;34m]\u001b[0m\u001b[0;34m)\u001b[0m\u001b[0;34m\u001b[0m\u001b[0;34m\u001b[0m\u001b[0m\n\u001b[0m",
      "\u001b[0;32m~/miniconda3/envs/MLAgents/lib/python3.8/site-packages/pyfmi/common/algorithm_drivers.py\u001b[0m in \u001b[0;36m__getitem__\u001b[0;34m(self, key)\u001b[0m\n\u001b[1;32m    173\u001b[0m                 \u001b[0mName\u001b[0m \u001b[0mof\u001b[0m \u001b[0mthe\u001b[0m \u001b[0mvariable\u001b[0m\u001b[0;34m/\u001b[0m\u001b[0mparameter\u001b[0m\u001b[0;34m/\u001b[0m\u001b[0mconstant\u001b[0m\u001b[0;34m.\u001b[0m\u001b[0;34m\u001b[0m\u001b[0;34m\u001b[0m\u001b[0m\n\u001b[1;32m    174\u001b[0m         \"\"\"\n\u001b[0;32m--> 175\u001b[0;31m         \u001b[0mval_x\u001b[0m \u001b[0;34m=\u001b[0m \u001b[0mself\u001b[0m\u001b[0;34m.\u001b[0m\u001b[0mresult_data\u001b[0m\u001b[0;34m.\u001b[0m\u001b[0mget_variable_data\u001b[0m\u001b[0;34m(\u001b[0m\u001b[0mkey\u001b[0m\u001b[0;34m)\u001b[0m\u001b[0;34m.\u001b[0m\u001b[0mx\u001b[0m\u001b[0;34m\u001b[0m\u001b[0;34m\u001b[0m\u001b[0m\n\u001b[0m\u001b[1;32m    176\u001b[0m \u001b[0;34m\u001b[0m\u001b[0m\n\u001b[1;32m    177\u001b[0m         \u001b[0;32mif\u001b[0m \u001b[0mself\u001b[0m\u001b[0;34m.\u001b[0m\u001b[0mresult_data\u001b[0m\u001b[0;34m.\u001b[0m\u001b[0mis_variable\u001b[0m\u001b[0;34m(\u001b[0m\u001b[0mkey\u001b[0m\u001b[0;34m)\u001b[0m\u001b[0;34m:\u001b[0m\u001b[0;34m\u001b[0m\u001b[0;34m\u001b[0m\u001b[0m\n",
      "\u001b[0;32m~/miniconda3/envs/MLAgents/lib/python3.8/site-packages/pyfmi/common/io.py\u001b[0m in \u001b[0;36mget_variable_data\u001b[0;34m(self, name)\u001b[0m\n\u001b[1;32m   1400\u001b[0m             \u001b[0;32mreturn\u001b[0m \u001b[0mTrajectory\u001b[0m\u001b[0;34m(\u001b[0m\u001b[0mself\u001b[0m\u001b[0;34m.\u001b[0m\u001b[0m_get_diagnostics_trajectory\u001b[0m\u001b[0;34m(\u001b[0m\u001b[0;36m0\u001b[0m\u001b[0;34m)\u001b[0m\u001b[0;34m,\u001b[0m \u001b[0mN\u001b[0m\u001b[0;34m.\u001b[0m\u001b[0mcumsum\u001b[0m\u001b[0;34m(\u001b[0m\u001b[0mself\u001b[0m\u001b[0;34m.\u001b[0m\u001b[0mget_variable_data\u001b[0m\u001b[0;34m(\u001b[0m\u001b[0;34m'Diagnostics.cpu_time'\u001b[0m\u001b[0;34m)\u001b[0m\u001b[0;34m.\u001b[0m\u001b[0mx\u001b[0m\u001b[0;34m)\u001b[0m\u001b[0;34m)\u001b[0m\u001b[0;34m\u001b[0m\u001b[0;34m\u001b[0m\u001b[0m\n\u001b[1;32m   1401\u001b[0m         \u001b[0;32melse\u001b[0m\u001b[0;34m:\u001b[0m\u001b[0;34m\u001b[0m\u001b[0;34m\u001b[0m\u001b[0m\n\u001b[0;32m-> 1402\u001b[0;31m             \u001b[0mvarInd\u001b[0m  \u001b[0;34m=\u001b[0m \u001b[0mself\u001b[0m\u001b[0;34m.\u001b[0m\u001b[0mget_variable_index\u001b[0m\u001b[0;34m(\u001b[0m\u001b[0mname\u001b[0m\u001b[0;34m)\u001b[0m\u001b[0;34m\u001b[0m\u001b[0;34m\u001b[0m\u001b[0m\n\u001b[0m\u001b[1;32m   1403\u001b[0m \u001b[0;34m\u001b[0m\u001b[0m\n\u001b[1;32m   1404\u001b[0m         \u001b[0mdataInd\u001b[0m \u001b[0;34m=\u001b[0m \u001b[0mself\u001b[0m\u001b[0;34m.\u001b[0m\u001b[0mraw\u001b[0m\u001b[0;34m[\u001b[0m\u001b[0;34m'dataInfo'\u001b[0m\u001b[0;34m]\u001b[0m\u001b[0;34m[\u001b[0m\u001b[0;36m1\u001b[0m\u001b[0;34m]\u001b[0m\u001b[0;34m[\u001b[0m\u001b[0mvarInd\u001b[0m\u001b[0;34m]\u001b[0m\u001b[0;34m\u001b[0m\u001b[0;34m\u001b[0m\u001b[0m\n",
      "\u001b[0;32m~/miniconda3/envs/MLAgents/lib/python3.8/site-packages/pyfmi/common/io.py\u001b[0m in \u001b[0;36mget_variable_index\u001b[0;34m(self, name)\u001b[0m\n\u001b[1;32m    162\u001b[0m                     \u001b[0;32mreturn\u001b[0m \u001b[0mself\u001b[0m\u001b[0;34m.\u001b[0m\u001b[0m_exhaustive_search_for_derivatives\u001b[0m\u001b[0;34m(\u001b[0m\u001b[0mname\u001b[0m\u001b[0;34m)\u001b[0m\u001b[0;34m\u001b[0m\u001b[0;34m\u001b[0m\u001b[0m\n\u001b[1;32m    163\u001b[0m             \u001b[0;32melse\u001b[0m\u001b[0;34m:\u001b[0m\u001b[0;34m\u001b[0m\u001b[0;34m\u001b[0m\u001b[0m\n\u001b[0;32m--> 164\u001b[0;31m                 raise VariableNotFoundError(\"Cannot find variable \" +\n\u001b[0m\u001b[1;32m    165\u001b[0m                                         name + \" in data file.\")\n\u001b[1;32m    166\u001b[0m \u001b[0;34m\u001b[0m\u001b[0m\n",
      "\u001b[0;31mVariableNotFoundError\u001b[0m: Cannot find variable sine in data file."
     ]
    }
   ],
   "source": [
    "plt.plot(out['sine'])"
   ]
  },
  {
   "cell_type": "code",
   "execution_count": 28,
   "id": "artistic-investment",
   "metadata": {},
   "outputs": [
    {
     "data": {
      "text/plain": [
       "'First example: simple drive train'"
      ]
     },
     "execution_count": 28,
     "metadata": {},
     "output_type": "execute_result"
    }
   ],
   "source": [
    "print(model.get_description())"
   ]
  },
  {
   "cell_type": "code",
   "execution_count": 29,
   "id": "fifty-standard",
   "metadata": {},
   "outputs": [
    {
     "data": {
      "text/plain": [
       "OrderedDict()"
      ]
     },
     "execution_count": 29,
     "metadata": {},
     "output_type": "execute_result"
    }
   ],
   "source": [
    "model.get_input_list()"
   ]
  },
  {
   "cell_type": "code",
   "execution_count": 30,
   "id": "furnished-lambda",
   "metadata": {},
   "outputs": [
    {
     "data": {
      "text/plain": [
       "OrderedDict([('damper.phi_rel', <pyfmi.fmi.ScalarVariable2 at 0x7f0d33ea0220>),\n",
       "             ('damper.w_rel', <pyfmi.fmi.ScalarVariable2 at 0x7f0d33ea0630>),\n",
       "             ('inertia3.phi', <pyfmi.fmi.ScalarVariable2 at 0x7f0d33ea0d60>),\n",
       "             ('inertia3.w', <pyfmi.fmi.ScalarVariable2 at 0x7f0d33ea0a90>),\n",
       "             ('der(damper.phi_rel)',\n",
       "              <pyfmi.fmi.ScalarVariable2 at 0x7f0d33ea0450>),\n",
       "             ('der(damper.w_rel)',\n",
       "              <pyfmi.fmi.ScalarVariable2 at 0x7f0d39463360>),\n",
       "             ('der(inertia3.phi)',\n",
       "              <pyfmi.fmi.ScalarVariable2 at 0x7f0d33b3bdb0>),\n",
       "             ('der(inertia3.w)',\n",
       "              <pyfmi.fmi.ScalarVariable2 at 0x7f0d33b3bbd0>),\n",
       "             ('der(der(idealGear.phi_a))',\n",
       "              <pyfmi.fmi.ScalarVariable2 at 0x7f0d33b3b4f0>),\n",
       "             ('der(der(idealGear.phi_b))',\n",
       "              <pyfmi.fmi.ScalarVariable2 at 0x7f0d33b3b770>),\n",
       "             ('der(idealGear.phi_a)',\n",
       "              <pyfmi.fmi.ScalarVariable2 at 0x7f0d39176810>),\n",
       "             ('der(idealGear.phi_b)',\n",
       "              <pyfmi.fmi.ScalarVariable2 at 0x7f0d39176c20>),\n",
       "             ('der(inertia1.phi)',\n",
       "              <pyfmi.fmi.ScalarVariable2 at 0x7f0d3903b5e0>),\n",
       "             ('der(inertia1.w)',\n",
       "              <pyfmi.fmi.ScalarVariable2 at 0x7f0d3a4c2c20>),\n",
       "             ('der(inertia2.phi)',\n",
       "              <pyfmi.fmi.ScalarVariable2 at 0x7f0d3a4c26d0>),\n",
       "             ('der(inertia2.w)',\n",
       "              <pyfmi.fmi.ScalarVariable2 at 0x7f0d33c6a720>),\n",
       "             ('damper.a_rel', <pyfmi.fmi.ScalarVariable2 at 0x7f0d33c6a130>),\n",
       "             ('damper.lossPower',\n",
       "              <pyfmi.fmi.ScalarVariable2 at 0x7f0d33c6a400>),\n",
       "             ('damper.tau', <pyfmi.fmi.ScalarVariable2 at 0x7f0d33c6ab30>),\n",
       "             ('fixed.flange.tau',\n",
       "              <pyfmi.fmi.ScalarVariable2 at 0x7f0d33c6a7c0>),\n",
       "             ('idealGear.flange_a.tau',\n",
       "              <pyfmi.fmi.ScalarVariable2 at 0x7f0d33c25ae0>),\n",
       "             ('idealGear.phi_a',\n",
       "              <pyfmi.fmi.ScalarVariable2 at 0x7f0d33c25db0>),\n",
       "             ('idealGear.phi_b',\n",
       "              <pyfmi.fmi.ScalarVariable2 at 0x7f0d33c25a40>),\n",
       "             ('idealGear.support.tau',\n",
       "              <pyfmi.fmi.ScalarVariable2 at 0x7f0d33c252c0>),\n",
       "             ('inertia1.a', <pyfmi.fmi.ScalarVariable2 at 0x7f0d33c25e00>),\n",
       "             ('inertia1.phi', <pyfmi.fmi.ScalarVariable2 at 0x7f0d33c25ef0>),\n",
       "             ('inertia1.w', <pyfmi.fmi.ScalarVariable2 at 0x7f0d33c25400>),\n",
       "             ('inertia2.a', <pyfmi.fmi.ScalarVariable2 at 0x7f0d33a3a680>),\n",
       "             ('inertia2.flange_a.tau',\n",
       "              <pyfmi.fmi.ScalarVariable2 at 0x7f0d33a3ae00>),\n",
       "             ('inertia2.flange_b.tau',\n",
       "              <pyfmi.fmi.ScalarVariable2 at 0x7f0d33a3a8b0>),\n",
       "             ('inertia2.phi', <pyfmi.fmi.ScalarVariable2 at 0x7f0d33a3ad60>),\n",
       "             ('inertia2.w', <pyfmi.fmi.ScalarVariable2 at 0x7f0d33a3a9a0>),\n",
       "             ('inertia3.a', <pyfmi.fmi.ScalarVariable2 at 0x7f0d33a3a900>),\n",
       "             ('inertia3.flange_b.tau',\n",
       "              <pyfmi.fmi.ScalarVariable2 at 0x7f0d33b0bae0>),\n",
       "             ('spring.phi_rel', <pyfmi.fmi.ScalarVariable2 at 0x7f0d33b0b450>),\n",
       "             ('spring.tau', <pyfmi.fmi.ScalarVariable2 at 0x7f0d33b0bb80>),\n",
       "             ('torque.tau', <pyfmi.fmi.ScalarVariable2 at 0x7f0d33b0b6d0>),\n",
       "             ('Jload', <pyfmi.fmi.ScalarVariable2 at 0x7f0d33b0b180>),\n",
       "             ('Jmotor', <pyfmi.fmi.ScalarVariable2 at 0x7f0d33b0b680>),\n",
       "             ('amplitude', <pyfmi.fmi.ScalarVariable2 at 0x7f0d33b0b770>),\n",
       "             ('damper.d', <pyfmi.fmi.ScalarVariable2 at 0x7f0d33b0ba90>),\n",
       "             ('damper.flange_b.phi',\n",
       "              <pyfmi.fmi.ScalarVariable2 at 0x7f0d33f10b80>),\n",
       "             ('damper.phi_nominal',\n",
       "              <pyfmi.fmi.ScalarVariable2 at 0x7f0d3910dea0>),\n",
       "             ('damping', <pyfmi.fmi.ScalarVariable2 at 0x7f0d3910d9a0>),\n",
       "             ('f', <pyfmi.fmi.ScalarVariable2 at 0x7f0d390cec70>),\n",
       "             ('fixed.flange.phi',\n",
       "              <pyfmi.fmi.ScalarVariable2 at 0x7f0d33c554f0>),\n",
       "             ('fixed.phi0', <pyfmi.fmi.ScalarVariable2 at 0x7f0d33c55cc0>),\n",
       "             ('idealGear.phi_support',\n",
       "              <pyfmi.fmi.ScalarVariable2 at 0x7f0d33c559f0>),\n",
       "             ('idealGear.ratio',\n",
       "              <pyfmi.fmi.ScalarVariable2 at 0x7f0d33c55220>),\n",
       "             ('idealGear.support.phi',\n",
       "              <pyfmi.fmi.ScalarVariable2 at 0x7f0d33c55e00>),\n",
       "             ('inertia1.J', <pyfmi.fmi.ScalarVariable2 at 0x7f0d39128f40>),\n",
       "             ('inertia2.J', <pyfmi.fmi.ScalarVariable2 at 0x7f0d33c00360>),\n",
       "             ('inertia3.J', <pyfmi.fmi.ScalarVariable2 at 0x7f0d33c00a40>),\n",
       "             ('ratio', <pyfmi.fmi.ScalarVariable2 at 0x7f0d33c00d60>),\n",
       "             ('sine.amplitude', <pyfmi.fmi.ScalarVariable2 at 0x7f0d33c00a90>),\n",
       "             ('sine.f', <pyfmi.fmi.ScalarVariable2 at 0x7f0d33c00900>),\n",
       "             ('sine.offset', <pyfmi.fmi.ScalarVariable2 at 0x7f0d38fca310>),\n",
       "             ('sine.phase', <pyfmi.fmi.ScalarVariable2 at 0x7f0d38fca900>),\n",
       "             ('sine.startTime', <pyfmi.fmi.ScalarVariable2 at 0x7f0d3904a5e0>),\n",
       "             ('spring.c', <pyfmi.fmi.ScalarVariable2 at 0x7f0d33fbbb80>),\n",
       "             ('spring.phi_rel0',\n",
       "              <pyfmi.fmi.ScalarVariable2 at 0x7f0d33c46e50>),\n",
       "             ('torque.phi_support',\n",
       "              <pyfmi.fmi.ScalarVariable2 at 0x7f0d3911e040>),\n",
       "             ('torque.support.phi',\n",
       "              <pyfmi.fmi.ScalarVariable2 at 0x7f0d3911e900>),\n",
       "             ('damper.flange_a.phi',\n",
       "              <pyfmi.fmi.ScalarVariable2 at 0x7f0d33f8b9a0>),\n",
       "             ('damper.flange_a.tau',\n",
       "              <pyfmi.fmi.ScalarVariable2 at 0x7f0d33f8bbd0>),\n",
       "             ('damper.flange_b.tau',\n",
       "              <pyfmi.fmi.ScalarVariable2 at 0x7f0d33f8b130>),\n",
       "             ('idealGear.flange_a.phi',\n",
       "              <pyfmi.fmi.ScalarVariable2 at 0x7f0d33f8b9f0>),\n",
       "             ('idealGear.flange_b.phi',\n",
       "              <pyfmi.fmi.ScalarVariable2 at 0x7f0d33f8b630>),\n",
       "             ('idealGear.flange_b.tau',\n",
       "              <pyfmi.fmi.ScalarVariable2 at 0x7f0d33b9bc20>),\n",
       "             ('inertia1.flange_a.phi',\n",
       "              <pyfmi.fmi.ScalarVariable2 at 0x7f0d33b9b1d0>),\n",
       "             ('inertia1.flange_a.tau',\n",
       "              <pyfmi.fmi.ScalarVariable2 at 0x7f0d33b9ba40>),\n",
       "             ('inertia1.flange_b.phi',\n",
       "              <pyfmi.fmi.ScalarVariable2 at 0x7f0d33b9bcc0>),\n",
       "             ('inertia1.flange_b.tau',\n",
       "              <pyfmi.fmi.ScalarVariable2 at 0x7f0d33b9bf40>),\n",
       "             ('inertia2.flange_a.phi',\n",
       "              <pyfmi.fmi.ScalarVariable2 at 0x7f0d33b9bdb0>),\n",
       "             ('inertia2.flange_b.phi',\n",
       "              <pyfmi.fmi.ScalarVariable2 at 0x7f0d339c5360>),\n",
       "             ('inertia3.flange_a.phi',\n",
       "              <pyfmi.fmi.ScalarVariable2 at 0x7f0d339c5400>),\n",
       "             ('inertia3.flange_a.tau',\n",
       "              <pyfmi.fmi.ScalarVariable2 at 0x7f0d339c5180>),\n",
       "             ('inertia3.flange_b.phi',\n",
       "              <pyfmi.fmi.ScalarVariable2 at 0x7f0d339c5b80>),\n",
       "             ('sine.y', <pyfmi.fmi.ScalarVariable2 at 0x7f0d339c5900>),\n",
       "             ('spring.flange_a.phi',\n",
       "              <pyfmi.fmi.ScalarVariable2 at 0x7f0d339c5860>),\n",
       "             ('spring.flange_a.tau',\n",
       "              <pyfmi.fmi.ScalarVariable2 at 0x7f0d339c5f40>),\n",
       "             ('spring.flange_b.phi',\n",
       "              <pyfmi.fmi.ScalarVariable2 at 0x7f0d339c5cc0>),\n",
       "             ('spring.flange_b.tau',\n",
       "              <pyfmi.fmi.ScalarVariable2 at 0x7f0d339da450>),\n",
       "             ('torque.flange.phi',\n",
       "              <pyfmi.fmi.ScalarVariable2 at 0x7f0d339da270>),\n",
       "             ('torque.flange.tau',\n",
       "              <pyfmi.fmi.ScalarVariable2 at 0x7f0d339da590>),\n",
       "             ('torque.support.tau',\n",
       "              <pyfmi.fmi.ScalarVariable2 at 0x7f0d339dabd0>),\n",
       "             ('damper.stateSelect',\n",
       "              <pyfmi.fmi.ScalarVariable2 at 0x7f0d339da9f0>),\n",
       "             ('inertia1.stateSelect',\n",
       "              <pyfmi.fmi.ScalarVariable2 at 0x7f0d339dae00>),\n",
       "             ('inertia2.stateSelect',\n",
       "              <pyfmi.fmi.ScalarVariable2 at 0x7f0d339da0e0>),\n",
       "             ('inertia3.stateSelect',\n",
       "              <pyfmi.fmi.ScalarVariable2 at 0x7f0d339da180>),\n",
       "             ('damper.useHeatPort',\n",
       "              <pyfmi.fmi.ScalarVariable2 at 0x7f0d339989a0>),\n",
       "             ('idealGear.useSupport',\n",
       "              <pyfmi.fmi.ScalarVariable2 at 0x7f0d33998590>),\n",
       "             ('torque.useSupport',\n",
       "              <pyfmi.fmi.ScalarVariable2 at 0x7f0d33998720>)])"
      ]
     },
     "execution_count": 30,
     "metadata": {},
     "output_type": "execute_result"
    }
   ],
   "source": [
    "model.get_model_variables()"
   ]
  },
  {
   "cell_type": "code",
   "execution_count": 31,
   "id": "accepted-brighton",
   "metadata": {},
   "outputs": [
    {
     "ename": "AttributeError",
     "evalue": "'pyfmi.fmi.FMUModelME2' object has no attribute 'inertia1'",
     "output_type": "error",
     "traceback": [
      "\u001b[0;31m---------------------------------------------------------------------------\u001b[0m",
      "\u001b[0;31mAttributeError\u001b[0m                            Traceback (most recent call last)",
      "\u001b[0;32m<ipython-input-31-d03152350b54>\u001b[0m in \u001b[0;36m<module>\u001b[0;34m\u001b[0m\n\u001b[0;32m----> 1\u001b[0;31m \u001b[0mmodel\u001b[0m\u001b[0;34m.\u001b[0m\u001b[0minertia1\u001b[0m\u001b[0;34m\u001b[0m\u001b[0;34m\u001b[0m\u001b[0m\n\u001b[0m",
      "\u001b[0;31mAttributeError\u001b[0m: 'pyfmi.fmi.FMUModelME2' object has no attribute 'inertia1'"
     ]
    }
   ],
   "source": [
    "model.inertia1"
   ]
  },
  {
   "cell_type": "code",
   "execution_count": 69,
   "id": "western-english",
   "metadata": {},
   "outputs": [
    {
     "name": "stdout",
     "output_type": "stream",
     "text": [
      "simple_sine.fmu       simple_sine_FMU.log\tsimple_sine.log\r\n",
      "simple_sine_FMU.libs  simple_sine_FMU.makefile\r\n"
     ]
    }
   ],
   "source": [
    "!ls simple_sine"
   ]
  },
  {
   "cell_type": "code",
   "execution_count": 99,
   "id": "worse-perth",
   "metadata": {},
   "outputs": [
    {
     "name": "stdout",
     "output_type": "stream",
     "text": [
      "<pyfmi.fmi.FMUModelME2 object at 0x555567e688b0>\n"
     ]
    }
   ],
   "source": [
    "model = load_fmu('MO/RLC_FMU_fab/RLC_FMU_fab.fmu')\n",
    "print(model) "
   ]
  },
  {
   "cell_type": "code",
   "execution_count": 100,
   "id": "prompt-investing",
   "metadata": {},
   "outputs": [
    {
     "data": {
      "text/plain": [
       "OrderedDict([('buck.inductor.i',\n",
       "              <pyfmi.fmi.ScalarVariable2 at 0x7f0d30d91770>),\n",
       "             ('capacitor.v', <pyfmi.fmi.ScalarVariable2 at 0x7f0d30d8cdb0>),\n",
       "             ('der(buck.inductor.i)',\n",
       "              <pyfmi.fmi.ScalarVariable2 at 0x7f0d30d8c540>),\n",
       "             ('der(capacitor.v)',\n",
       "              <pyfmi.fmi.ScalarVariable2 at 0x7f0d30d8cea0>),\n",
       "             ('buck.Loss', <pyfmi.fmi.ScalarVariable2 at 0x7f0d30d8c720>),\n",
       "             ('buck.Pertes_joules.u',\n",
       "              <pyfmi.fmi.ScalarVariable2 at 0x7f0d30d8c6d0>),\n",
       "             ('buck.Ve.n.i', <pyfmi.fmi.ScalarVariable2 at 0x7f0d30d8c4f0>),\n",
       "             ('buck.Ve.p.i', <pyfmi.fmi.ScalarVariable2 at 0x7f0d30d8ce50>),\n",
       "             ('buck.inductor.v',\n",
       "              <pyfmi.fmi.ScalarVariable2 at 0x7f0d31027950>),\n",
       "             ('buck.realExpression1.y',\n",
       "              <pyfmi.fmi.ScalarVariable2 at 0x7f0d30d6b180>),\n",
       "             ('capacitor.i', <pyfmi.fmi.ScalarVariable2 at 0x7f0d31079220>),\n",
       "             ('constantVoltage.i',\n",
       "              <pyfmi.fmi.ScalarVariable2 at 0x7f0d31022360>),\n",
       "             ('ground.p.i', <pyfmi.fmi.ScalarVariable2 at 0x7f0d31022090>),\n",
       "             ('ground.p.v', <pyfmi.fmi.ScalarVariable2 at 0x7f0d310234a0>),\n",
       "             ('ground1.p.i', <pyfmi.fmi.ScalarVariable2 at 0x7f0d31023590>),\n",
       "             ('ground1.p.v', <pyfmi.fmi.ScalarVariable2 at 0x7f0d31023d60>),\n",
       "             ('inductor.p.v', <pyfmi.fmi.ScalarVariable2 at 0x7f0d310239a0>),\n",
       "             ('inductor.v', <pyfmi.fmi.ScalarVariable2 at 0x7f0d31023180>),\n",
       "             ('resistor.LossPower',\n",
       "              <pyfmi.fmi.ScalarVariable2 at 0x7f0d31023bd0>),\n",
       "             ('resistor.R_actual',\n",
       "              <pyfmi.fmi.ScalarVariable2 at 0x7f0d31023a90>),\n",
       "             ('resistor.i', <pyfmi.fmi.ScalarVariable2 at 0x7f0d31023e00>),\n",
       "             ('u', <pyfmi.fmi.ScalarVariable2 at 0x7f0d31023f40>),\n",
       "             ('buck.Ie.n.v', <pyfmi.fmi.ScalarVariable2 at 0x7f0d30d9d540>),\n",
       "             ('buck.Ie.v', <pyfmi.fmi.ScalarVariable2 at 0x7f0d30d9d860>),\n",
       "             ('buck.In_p.v', <pyfmi.fmi.ScalarVariable2 at 0x7f0d30d9d450>),\n",
       "             ('buck.L', <pyfmi.fmi.ScalarVariable2 at 0x7f0d30d9ddb0>),\n",
       "             ('buck.Losses', <pyfmi.fmi.ScalarVariable2 at 0x7f0d30d9de00>),\n",
       "             ('buck.Ve.p.v', <pyfmi.fmi.ScalarVariable2 at 0x7f0d30d9da40>),\n",
       "             ('buck.Ve.v', <pyfmi.fmi.ScalarVariable2 at 0x7f0d30d9d7c0>),\n",
       "             ('buck.inductor.L',\n",
       "              <pyfmi.fmi.ScalarVariable2 at 0x7f0d30d9d9a0>),\n",
       "             ('capacitor.C', <pyfmi.fmi.ScalarVariable2 at 0x7f0d30d9dbd0>),\n",
       "             ('constantVoltage.V',\n",
       "              <pyfmi.fmi.ScalarVariable2 at 0x7f0d30d9dea0>),\n",
       "             ('constantVoltage.p.v',\n",
       "              <pyfmi.fmi.ScalarVariable2 at 0x7f0d30d9d8b0>),\n",
       "             ('constantVoltage.v',\n",
       "              <pyfmi.fmi.ScalarVariable2 at 0x7f0d30d9dae0>),\n",
       "             ('inductor.L', <pyfmi.fmi.ScalarVariable2 at 0x7f0d30d9d680>),\n",
       "             ('resistor.R', <pyfmi.fmi.ScalarVariable2 at 0x7f0d30d9de50>),\n",
       "             ('resistor.T', <pyfmi.fmi.ScalarVariable2 at 0x7f0d30d9d4f0>),\n",
       "             ('resistor.T_heatPort',\n",
       "              <pyfmi.fmi.ScalarVariable2 at 0x7f0d30d9d770>),\n",
       "             ('resistor.T_ref', <pyfmi.fmi.ScalarVariable2 at 0x7f0d30d9d900>),\n",
       "             ('resistor.alpha', <pyfmi.fmi.ScalarVariable2 at 0x7f0d30d9d090>),\n",
       "             ('buck.Ie.i', <pyfmi.fmi.ScalarVariable2 at 0x7f0d30d9d9f0>),\n",
       "             ('buck.Ie.n.i', <pyfmi.fmi.ScalarVariable2 at 0x7f0d30da84a0>),\n",
       "             ('buck.Ie.p.i', <pyfmi.fmi.ScalarVariable2 at 0x7f0d30da8540>),\n",
       "             ('buck.Ie.p.v', <pyfmi.fmi.ScalarVariable2 at 0x7f0d30da85e0>),\n",
       "             ('buck.In_n.i', <pyfmi.fmi.ScalarVariable2 at 0x7f0d30da8680>),\n",
       "             ('buck.In_n.v', <pyfmi.fmi.ScalarVariable2 at 0x7f0d30da8720>),\n",
       "             ('buck.In_p.i', <pyfmi.fmi.ScalarVariable2 at 0x7f0d30da87c0>),\n",
       "             ('buck.Is.i', <pyfmi.fmi.ScalarVariable2 at 0x7f0d30da8810>),\n",
       "             ('buck.Is.n.i', <pyfmi.fmi.ScalarVariable2 at 0x7f0d30da88b0>),\n",
       "             ('buck.Is.n.v', <pyfmi.fmi.ScalarVariable2 at 0x7f0d30da8950>),\n",
       "             ('buck.Is.p.i', <pyfmi.fmi.ScalarVariable2 at 0x7f0d30da89f0>),\n",
       "             ('buck.Is.p.v', <pyfmi.fmi.ScalarVariable2 at 0x7f0d30da8a90>),\n",
       "             ('buck.Out_n.i', <pyfmi.fmi.ScalarVariable2 at 0x7f0d30da8b30>),\n",
       "             ('buck.Out_n.v', <pyfmi.fmi.ScalarVariable2 at 0x7f0d30da8bd0>),\n",
       "             ('buck.Out_p.i', <pyfmi.fmi.ScalarVariable2 at 0x7f0d30da8c70>),\n",
       "             ('buck.Out_p.v', <pyfmi.fmi.ScalarVariable2 at 0x7f0d30da8d10>),\n",
       "             ('buck.Pertes_joules.y',\n",
       "              <pyfmi.fmi.ScalarVariable2 at 0x7f0d30da8e00>),\n",
       "             ('buck.Ve.n.v', <pyfmi.fmi.ScalarVariable2 at 0x7f0d30da8ea0>),\n",
       "             ('buck.Vs.i', <pyfmi.fmi.ScalarVariable2 at 0x7f0d30da8ef0>),\n",
       "             ('buck.Vs.n.i', <pyfmi.fmi.ScalarVariable2 at 0x7f0d30da8f90>),\n",
       "             ('buck.Vs.n.v', <pyfmi.fmi.ScalarVariable2 at 0x7f0d30d8f090>),\n",
       "             ('buck.Vs.p.i', <pyfmi.fmi.ScalarVariable2 at 0x7f0d30d8f130>),\n",
       "             ('buck.Vs.p.v', <pyfmi.fmi.ScalarVariable2 at 0x7f0d30d8f1d0>),\n",
       "             ('buck.Vs.v', <pyfmi.fmi.ScalarVariable2 at 0x7f0d30d8f220>),\n",
       "             ('buck.alpha', <pyfmi.fmi.ScalarVariable2 at 0x7f0d30d8f270>),\n",
       "             ('buck.inductor.n.i',\n",
       "              <pyfmi.fmi.ScalarVariable2 at 0x7f0d30d8f360>),\n",
       "             ('buck.inductor.n.v',\n",
       "              <pyfmi.fmi.ScalarVariable2 at 0x7f0d30d8f450>),\n",
       "             ('buck.inductor.p.i',\n",
       "              <pyfmi.fmi.ScalarVariable2 at 0x7f0d30d8f540>),\n",
       "             ('buck.inductor.p.v',\n",
       "              <pyfmi.fmi.ScalarVariable2 at 0x7f0d30d8f630>),\n",
       "             ('buck.realExpression.y',\n",
       "              <pyfmi.fmi.ScalarVariable2 at 0x7f0d30d8f720>),\n",
       "             ('buck.realExpression2.y',\n",
       "              <pyfmi.fmi.ScalarVariable2 at 0x7f0d30d8f810>),\n",
       "             ('capacitor.n.i', <pyfmi.fmi.ScalarVariable2 at 0x7f0d30d8f8b0>),\n",
       "             ('capacitor.n.v', <pyfmi.fmi.ScalarVariable2 at 0x7f0d30d8f950>),\n",
       "             ('capacitor.p.i', <pyfmi.fmi.ScalarVariable2 at 0x7f0d30d8f9f0>),\n",
       "             ('capacitor.p.v', <pyfmi.fmi.ScalarVariable2 at 0x7f0d30d8fa90>),\n",
       "             ('constantVoltage.n.i',\n",
       "              <pyfmi.fmi.ScalarVariable2 at 0x7f0d30d8fb80>),\n",
       "             ('constantVoltage.n.v',\n",
       "              <pyfmi.fmi.ScalarVariable2 at 0x7f0d30d8fc70>),\n",
       "             ('constantVoltage.p.i',\n",
       "              <pyfmi.fmi.ScalarVariable2 at 0x7f0d30d8fd60>),\n",
       "             ('inductor.i', <pyfmi.fmi.ScalarVariable2 at 0x7f0d30d8fdb0>),\n",
       "             ('inductor.n.i', <pyfmi.fmi.ScalarVariable2 at 0x7f0d30d8fe50>),\n",
       "             ('inductor.n.v', <pyfmi.fmi.ScalarVariable2 at 0x7f0d30d8fef0>),\n",
       "             ('inductor.p.i', <pyfmi.fmi.ScalarVariable2 at 0x7f0d30d8ff90>),\n",
       "             ('resistor.n.i', <pyfmi.fmi.ScalarVariable2 at 0x7f0d30d86090>),\n",
       "             ('resistor.n.v', <pyfmi.fmi.ScalarVariable2 at 0x7f0d30d86130>),\n",
       "             ('resistor.p.i', <pyfmi.fmi.ScalarVariable2 at 0x7f0d30d861d0>),\n",
       "             ('resistor.p.v', <pyfmi.fmi.ScalarVariable2 at 0x7f0d30d86270>),\n",
       "             ('resistor.v', <pyfmi.fmi.ScalarVariable2 at 0x7f0d30d862c0>),\n",
       "             ('buck.Pertes_joules.generateEvent',\n",
       "              <pyfmi.fmi.ScalarVariable2 at 0x7f0d30d86310>),\n",
       "             ('resistor.useHeatPort',\n",
       "              <pyfmi.fmi.ScalarVariable2 at 0x7f0d30d86400>)])"
      ]
     },
     "execution_count": 100,
     "metadata": {},
     "output_type": "execute_result"
    }
   ],
   "source": [
    "model.get_model_variables()"
   ]
  },
  {
   "cell_type": "code",
   "execution_count": 95,
   "id": "challenging-payroll",
   "metadata": {},
   "outputs": [
    {
     "name": "stdout",
     "output_type": "stream",
     "text": [
      "Help on built-in function set:\n",
      "\n",
      "set(...) method of pyfmi.fmi.FMUModelME2 instance\n",
      "    Sets the given value(s) to the specified variable name(s) into the\n",
      "    model. The method both accept a single variable and a list of variables.\n",
      "    \n",
      "    Parameters::\n",
      "    \n",
      "        variable_name --\n",
      "            The name of the variable(s) as string/list.\n",
      "    \n",
      "        value --\n",
      "            The value(s) to set.\n",
      "    \n",
      "    Example::\n",
      "    \n",
      "        model.set('damper.d', 1.1)\n",
      "        model.set(['damper.d','gear.a'], [1.1, 10])\n",
      "\n"
     ]
    }
   ],
   "source": [
    "help(model.set)"
   ]
  },
  {
   "cell_type": "code",
   "execution_count": 96,
   "id": "residential-reduction",
   "metadata": {},
   "outputs": [],
   "source": [
    "model.set('u',5.0)"
   ]
  },
  {
   "cell_type": "code",
   "execution_count": 98,
   "id": "regulated-adolescent",
   "metadata": {},
   "outputs": [
    {
     "ename": "CVodeError",
     "evalue": "'The right-hand side function failed at the first call. At time 0.000000.'",
     "output_type": "error",
     "traceback": [
      "\u001b[0;31m---------------------------------------------------------------------------\u001b[0m",
      "\u001b[0;31mCVodeError\u001b[0m                                Traceback (most recent call last)",
      "\u001b[0;32m<ipython-input-98-d6c0548f3eda>\u001b[0m in \u001b[0;36m<module>\u001b[0;34m\u001b[0m\n\u001b[0;32m----> 1\u001b[0;31m \u001b[0mout\u001b[0m \u001b[0;34m=\u001b[0m \u001b[0mmodel\u001b[0m\u001b[0;34m.\u001b[0m\u001b[0msimulate\u001b[0m\u001b[0;34m(\u001b[0m\u001b[0mfinal_time\u001b[0m \u001b[0;34m=\u001b[0m \u001b[0;36m3\u001b[0m\u001b[0;34m)\u001b[0m\u001b[0;34m\u001b[0m\u001b[0;34m\u001b[0m\u001b[0m\n\u001b[0m",
      "\u001b[0;32msrc/pyfmi/fmi.pyx\u001b[0m in \u001b[0;36mpyfmi.fmi.FMUModelME2.simulate\u001b[0;34m()\u001b[0m\n",
      "\u001b[0;32msrc/pyfmi/fmi.pyx\u001b[0m in \u001b[0;36mpyfmi.fmi.ModelBase._exec_simulate_algorithm\u001b[0;34m()\u001b[0m\n",
      "\u001b[0;32msrc/pyfmi/fmi.pyx\u001b[0m in \u001b[0;36mpyfmi.fmi.ModelBase._exec_simulate_algorithm\u001b[0;34m()\u001b[0m\n",
      "\u001b[0;32m~/miniconda3/envs/MLAgents/lib/python3.8/site-packages/pyfmi/fmi_algorithm_drivers.py\u001b[0m in \u001b[0;36msolve\u001b[0;34m(self)\u001b[0m\n\u001b[1;32m    635\u001b[0m \u001b[0;34m\u001b[0m\u001b[0m\n\u001b[1;32m    636\u001b[0m         \u001b[0;32mtry\u001b[0m\u001b[0;34m:\u001b[0m\u001b[0;34m\u001b[0m\u001b[0;34m\u001b[0m\u001b[0m\n\u001b[0;32m--> 637\u001b[0;31m             \u001b[0mself\u001b[0m\u001b[0;34m.\u001b[0m\u001b[0msimulator\u001b[0m\u001b[0;34m.\u001b[0m\u001b[0msimulate\u001b[0m\u001b[0;34m(\u001b[0m\u001b[0mself\u001b[0m\u001b[0;34m.\u001b[0m\u001b[0mfinal_time\u001b[0m\u001b[0;34m,\u001b[0m \u001b[0mself\u001b[0m\u001b[0;34m.\u001b[0m\u001b[0mncp\u001b[0m\u001b[0;34m)\u001b[0m\u001b[0;34m\u001b[0m\u001b[0;34m\u001b[0m\u001b[0m\n\u001b[0m\u001b[1;32m    638\u001b[0m         \u001b[0;32mexcept\u001b[0m\u001b[0;34m:\u001b[0m\u001b[0;34m\u001b[0m\u001b[0;34m\u001b[0m\u001b[0m\n\u001b[1;32m    639\u001b[0m             \u001b[0mself\u001b[0m\u001b[0;34m.\u001b[0m\u001b[0mresult_handler\u001b[0m\u001b[0;34m.\u001b[0m\u001b[0msimulation_end\u001b[0m\u001b[0;34m(\u001b[0m\u001b[0;34m)\u001b[0m \u001b[0;31m#Close the potentially open result files\u001b[0m\u001b[0;34m\u001b[0m\u001b[0;34m\u001b[0m\u001b[0m\n",
      "\u001b[0;32massimulo/ode.pyx\u001b[0m in \u001b[0;36massimulo.ode.ODE.simulate\u001b[0;34m()\u001b[0m\n",
      "\u001b[0;32massimulo/ode.pyx\u001b[0m in \u001b[0;36massimulo.ode.ODE.simulate\u001b[0;34m()\u001b[0m\n",
      "\u001b[0;32massimulo/explicit_ode.pyx\u001b[0m in \u001b[0;36massimulo.explicit_ode.Explicit_ODE._simulate\u001b[0;34m()\u001b[0m\n",
      "\u001b[0;32massimulo/explicit_ode.pyx\u001b[0m in \u001b[0;36massimulo.explicit_ode.Explicit_ODE._simulate\u001b[0;34m()\u001b[0m\n",
      "\u001b[0;32massimulo/solvers/sundials.pyx\u001b[0m in \u001b[0;36massimulo.solvers.sundials.CVode.integrate\u001b[0;34m()\u001b[0m\n",
      "\u001b[0;32massimulo/solvers/sundials.pyx\u001b[0m in \u001b[0;36massimulo.solvers.sundials.CVode.integrate\u001b[0;34m()\u001b[0m\n",
      "\u001b[0;31mCVodeError\u001b[0m: 'The right-hand side function failed at the first call. At time 0.000000.'"
     ]
    }
   ],
   "source": [
    "out = model.simulate(final_time = 3)"
   ]
  },
  {
   "cell_type": "code",
   "execution_count": null,
   "id": "colonial-paris",
   "metadata": {},
   "outputs": [],
   "source": []
  }
 ],
 "metadata": {
  "kernelspec": {
   "display_name": "Python 3",
   "language": "python",
   "name": "python3"
  },
  "language_info": {
   "codemirror_mode": {
    "name": "ipython",
    "version": 3
   },
   "file_extension": ".py",
   "mimetype": "text/x-python",
   "name": "python",
   "nbconvert_exporter": "python",
   "pygments_lexer": "ipython3",
   "version": "3.8.8"
  }
 },
 "nbformat": 4,
 "nbformat_minor": 5
}
