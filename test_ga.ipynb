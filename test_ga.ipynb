{
 "cells": [
  {
   "cell_type": "code",
   "execution_count": 1,
   "id": "medium-shelter",
   "metadata": {},
   "outputs": [],
   "source": [
    "import numpy as np \n",
    "import pygad as ga "
   ]
  },
  {
   "cell_type": "code",
   "execution_count": 53,
   "id": "provincial-knowing",
   "metadata": {},
   "outputs": [],
   "source": [
    "f_inputs = np.array([4,-2,3.5,5,-11,4.7])\n",
    "f_inputs_2 = np.array([1,0,1,1,1,0,0,0])\n",
    "nb_genes = f_inputs.shape[0] + f_inputs_2.shape[0]\n",
    "desired_out = 44\n",
    "def compute_fitness(solution, solution_idx): \n",
    "    s1 = solution[:len(f_inputs)]\n",
    "    s2 = solution[len(f_inputs):]\n",
    "    solution = s1\n",
    "    output = np.sum(solution * f_inputs)\n",
    "    fitness = 1. / np.abs(output - desired_out) - 50 * ((f_inputs_2 - s2)**2).sum()\n",
    "    return fitness"
   ]
  },
  {
   "cell_type": "code",
   "execution_count": 54,
   "id": "million-island",
   "metadata": {},
   "outputs": [],
   "source": [
    "params = {\"num_generations\" : 50 ,\n",
    "\"num_parents_mating\" : 4,\n",
    "\"fitness_func\" : compute_fitness,\n",
    "\"sol_per_pop\" : 8,\n",
    "\"num_genes\" : nb_genes, \n",
    "\"gene_type\": [float for i in range(f_inputs.shape[0])] + [int for f in range(f_inputs_2.shape[0])],\n",
    "\"init_range_low\" : -2,\n",
    "\"init_range_high\" : 5,\n",
    "\"parent_selection_type\" : \"sss\",\n",
    "\"keep_parents\" : 0,\n",
    "\"crossover_type\" : \"single_point\",\n",
    "\"mutation_type\" : \"random\",\n",
    "\"mutation_percent_genes\" : 10}\n",
    "\n",
    "org = ga.GA(**params)"
   ]
  },
  {
   "cell_type": "code",
   "execution_count": 55,
   "id": "balanced-warehouse",
   "metadata": {},
   "outputs": [],
   "source": [
    "org.run()"
   ]
  },
  {
   "cell_type": "code",
   "execution_count": 56,
   "id": "numerous-translator",
   "metadata": {},
   "outputs": [
    {
     "name": "stdout",
     "output_type": "stream",
     "text": [
      "Solution: [1.7259608991246496 -0.24755705683923357 3.9520503202625266\n",
      " 4.48543576288787 -1.2073953622614353 -2.6875958948611993 1 0 1 0 0 0 0 0]\n"
     ]
    }
   ],
   "source": [
    "solution, sol_fitness, sol_idx = org.best_solution()\n",
    "print(\"Solution: {}\".format(solution))"
   ]
  },
  {
   "cell_type": "code",
   "execution_count": null,
   "id": "rental-convergence",
   "metadata": {},
   "outputs": [],
   "source": []
  }
 ],
 "metadata": {
  "kernelspec": {
   "display_name": "Python 3",
   "language": "python",
   "name": "python3"
  },
  "language_info": {
   "codemirror_mode": {
    "name": "ipython",
    "version": 3
   },
   "file_extension": ".py",
   "mimetype": "text/x-python",
   "name": "python",
   "nbconvert_exporter": "python",
   "pygments_lexer": "ipython3",
   "version": "3.8.8"
  }
 },
 "nbformat": 4,
 "nbformat_minor": 5
}
